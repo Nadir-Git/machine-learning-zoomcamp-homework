{
  "nbformat": 4,
  "nbformat_minor": 0,
  "metadata": {
    "colab": {
      "provenance": [],
      "authorship_tag": "ABX9TyNWfYvO5DabOAVhTArwriNn",
      "include_colab_link": true
    },
    "kernelspec": {
      "name": "python3",
      "display_name": "Python 3"
    },
    "language_info": {
      "name": "python"
    }
  },
  "cells": [
    {
      "cell_type": "markdown",
      "metadata": {
        "id": "view-in-github",
        "colab_type": "text"
      },
      "source": [
        "<a href=\"https://colab.research.google.com/github/Nadir-Git/machine-learning-zoomcamp-homework/blob/main/03-Classification/ML2025_HW3.ipynb\" target=\"_parent\"><img src=\"https://colab.research.google.com/assets/colab-badge.svg\" alt=\"Open In Colab\"/></a>"
      ]
    },
    {
      "cell_type": "markdown",
      "source": [
        "# **Solution 1**"
      ],
      "metadata": {
        "id": "Xax2EVI7kN2U"
      }
    },
    {
      "cell_type": "code",
      "source": [
        "import pandas as pd\n",
        "\n",
        "url = \"https://raw.githubusercontent.com/alexeygrigorev/datasets/master/course_lead_scoring.csv\"\n",
        "df = pd.read_csv(url)\n",
        "\n",
        "df['industry'] = df['industry'].fillna('NA')\n",
        "\n",
        "most_frequent = df['industry'].mode()[0]\n",
        "print(\"Most frequent observation in 'industry' column:\", most_frequent)"
      ],
      "metadata": {
        "colab": {
          "base_uri": "https://localhost:8080/"
        },
        "id": "Cy-BpHR-kV-3",
        "outputId": "3993f1e1-5876-45fa-b592-167b958d7cb1"
      },
      "execution_count": 12,
      "outputs": [
        {
          "output_type": "stream",
          "name": "stdout",
          "text": [
            "Most frequent observation in 'industry' column: retail\n"
          ]
        }
      ]
    },
    {
      "cell_type": "markdown",
      "source": [
        "# **Solution 2**"
      ],
      "metadata": {
        "id": "s3NDgrpMk8RB"
      }
    },
    {
      "cell_type": "code",
      "source": [
        "for col in df.select_dtypes(include=['float64', 'int64']).columns:\n",
        "    df[col] = df[col].fillna(0.0)\n",
        "\n",
        "numerical_features = df.select_dtypes(include=['float64', 'int64'])\n",
        "\n",
        "corr_matrix = numerical_features.corr()\n",
        "print(\"Correlation matrix:\\n\", corr_matrix)\n",
        "\n",
        "pairs = [\n",
        "    ('interaction_count', 'lead_score'),\n",
        "    ('number_of_courses_viewed', 'lead_score'),\n",
        "    ('number_of_courses_viewed', 'interaction_count'),\n",
        "    ('annual_income', 'interaction_count')\n",
        "]\n",
        "\n",
        "max_corr = 0\n",
        "max_pair = None\n",
        "for x, y in pairs:\n",
        "    corr_value = corr_matrix.loc[x, y]\n",
        "    if abs(corr_value) > abs(max_corr):\n",
        "        max_corr = corr_value\n",
        "        max_pair = (x, y)\n",
        "\n",
        "print(\"\\nPair with the biggest correlation:\", max_pair, \"with correlation:\", max_corr)"
      ],
      "metadata": {
        "colab": {
          "base_uri": "https://localhost:8080/"
        },
        "id": "QZSgr2zHkwsL",
        "outputId": "aff331ce-6634-4372-8406-3d858ab5f307"
      },
      "execution_count": 13,
      "outputs": [
        {
          "output_type": "stream",
          "name": "stdout",
          "text": [
            "Correlation matrix:\n",
            "                           number_of_courses_viewed  annual_income  \\\n",
            "number_of_courses_viewed                  1.000000       0.009770   \n",
            "annual_income                             0.009770       1.000000   \n",
            "interaction_count                        -0.023565       0.027036   \n",
            "lead_score                               -0.004879       0.015610   \n",
            "converted                                 0.435914       0.053131   \n",
            "\n",
            "                          interaction_count  lead_score  converted  \n",
            "number_of_courses_viewed          -0.023565   -0.004879   0.435914  \n",
            "annual_income                      0.027036    0.015610   0.053131  \n",
            "interaction_count                  1.000000    0.009888   0.374573  \n",
            "lead_score                         0.009888    1.000000   0.193673  \n",
            "converted                          0.374573    0.193673   1.000000  \n",
            "\n",
            "Pair with the biggest correlation: ('annual_income', 'interaction_count') with correlation: 0.02703647240481443\n"
          ]
        }
      ]
    },
    {
      "cell_type": "markdown",
      "source": [
        "# **Solution 3**"
      ],
      "metadata": {
        "id": "3zhlnZd4nJ7E"
      }
    },
    {
      "cell_type": "code",
      "source": [
        "from sklearn.model_selection import train_test_split\n",
        "from sklearn.feature_selection import mutual_info_classif\n",
        "\n",
        "y = df['converted']\n",
        "X = df.drop(columns=['converted'])\n",
        "\n",
        "X_train_val, X_test, y_train_val, y_test = train_test_split(X, y, test_size=0.2, random_state=42)\n",
        "X_train, X_val, y_train, y_val = train_test_split(X_train_val, y_train_val, test_size=0.25, random_state=42)\n",
        "\n",
        "categorical_cols = X_train.select_dtypes(include=['object']).columns\n",
        "\n",
        "X_train_encoded = X_train[categorical_cols].apply(lambda col: pd.factorize(col)[0])\n",
        "\n",
        "mi_scores = mutual_info_classif(X_train_encoded, y_train, discrete_features=True, random_state=42)\n",
        "mi_scores_rounded = {col: round(score, 2) for col, score in zip(categorical_cols, mi_scores)}\n",
        "\n",
        "print(\"Mutual information scores:\", mi_scores_rounded)\n",
        "\n",
        "max_mi_feature = max(mi_scores_rounded, key=mi_scores_rounded.get)\n",
        "print(\"Categorical variable with the biggest MI score:\", max_mi_feature)"
      ],
      "metadata": {
        "colab": {
          "base_uri": "https://localhost:8080/"
        },
        "id": "b_GPAhS1nZNz",
        "outputId": "bb7c3649-fe77-4eba-a888-4d0746c9fd06"
      },
      "execution_count": 14,
      "outputs": [
        {
          "output_type": "stream",
          "name": "stdout",
          "text": [
            "Mutual information scores: {'lead_source': np.float64(0.04), 'industry': np.float64(0.01), 'employment_status': np.float64(0.01), 'location': np.float64(0.0)}\n",
            "Categorical variable with the biggest MI score: lead_source\n"
          ]
        }
      ]
    },
    {
      "cell_type": "markdown",
      "source": [
        "# **Solution 4**"
      ],
      "metadata": {
        "id": "yV8NHaHhn3ER"
      }
    },
    {
      "cell_type": "code",
      "source": [
        "from sklearn.linear_model import LogisticRegression\n",
        "from sklearn.preprocessing import OneHotEncoder\n",
        "from sklearn.metrics import accuracy_score\n",
        "\n",
        "categorical_cols = X_train.select_dtypes(include=['object']).columns\n",
        "numerical_cols = X_train.select_dtypes(exclude=['object']).columns\n",
        "\n",
        "ohe = OneHotEncoder(handle_unknown='ignore', sparse_output=False)\n",
        "X_train_ohe = ohe.fit_transform(X_train[categorical_cols])\n",
        "X_val_ohe = ohe.transform(X_val[categorical_cols])\n",
        "\n",
        "import numpy as np\n",
        "X_train_final = np.hstack([X_train[numerical_cols].values, X_train_ohe])\n",
        "X_val_final = np.hstack([X_val[numerical_cols].values, X_val_ohe])\n",
        "\n",
        "model = LogisticRegression(solver='liblinear', C=1.0, max_iter=1000, random_state=42)\n",
        "model.fit(X_train_final, y_train)\n",
        "\n",
        "y_val_pred = model.predict(X_val_final)\n",
        "\n",
        "accuracy = round(accuracy_score(y_val, y_val_pred), 2)\n",
        "print(\"Validation accuracy:\", accuracy)"
      ],
      "metadata": {
        "colab": {
          "base_uri": "https://localhost:8080/"
        },
        "id": "nFHRp6QcnuBq",
        "outputId": "9fe58934-3d72-4cd4-cac9-35e3923f965b"
      },
      "execution_count": 15,
      "outputs": [
        {
          "output_type": "stream",
          "name": "stdout",
          "text": [
            "Validation accuracy: 0.7\n"
          ]
        }
      ]
    },
    {
      "cell_type": "markdown",
      "source": [
        "# **Solution 5**"
      ],
      "metadata": {
        "id": "9ulnLz50ofCU"
      }
    },
    {
      "cell_type": "code",
      "source": [
        "ohe_features = ohe.get_feature_names_out(categorical_cols)\n",
        "all_features = list(numerical_cols) + list(ohe_features)\n",
        "\n",
        "model = LogisticRegression(solver='liblinear', C=1.0, max_iter=1000, random_state=42)\n",
        "model.fit(X_train_final, y_train)\n",
        "original_acc = accuracy_score(y_val, model.predict(X_val_final))\n",
        "\n",
        "def feature_drop_accuracy(feature_name):\n",
        "    if feature_name in numerical_cols:\n",
        "        idx_to_keep = [i for i, f in enumerate(all_features) if f != feature_name]\n",
        "    else:\n",
        "        idx_to_keep = [i for i, f in enumerate(all_features) if not f.startswith(feature_name + \"_\")]\n",
        "\n",
        "    X_train_mod = X_train_final[:, idx_to_keep]\n",
        "    X_val_mod = X_val_final[:, idx_to_keep]\n",
        "\n",
        "    model_mod = LogisticRegression(solver='liblinear', C=1.0, max_iter=1000, random_state=42)\n",
        "    model_mod.fit(X_train_mod, y_train)\n",
        "    return original_acc - accuracy_score(y_val, model_mod.predict(X_val_mod))\n",
        "\n",
        "features_to_check = ['industry', 'employment_status', 'lead_score']\n",
        "differences = {feat: feature_drop_accuracy(feat) for feat in features_to_check}\n",
        "\n",
        "print(\"Accuracy differences:\", differences)\n",
        "least_useful_feature = min(differences, key=lambda k: abs(differences[k]))\n",
        "print(\"Least useful feature:\", least_useful_feature)"
      ],
      "metadata": {
        "colab": {
          "base_uri": "https://localhost:8080/"
        },
        "id": "DxFMZe9so89I",
        "outputId": "afc3cede-d19a-4ed6-fb44-8add0449222c"
      },
      "execution_count": 16,
      "outputs": [
        {
          "output_type": "stream",
          "name": "stdout",
          "text": [
            "Accuracy differences: {'industry': 0.0, 'employment_status': 0.0034129692832763903, 'lead_score': -0.0068259385665528916}\n",
            "Least useful feature: industry\n"
          ]
        }
      ]
    },
    {
      "cell_type": "markdown",
      "source": [
        "# **Solution 6**"
      ],
      "metadata": {
        "id": "aYbbK9XHqOon"
      }
    },
    {
      "cell_type": "code",
      "source": [
        "C_values = [0.01, 0.1, 1, 10, 100]\n",
        "results = {}\n",
        "\n",
        "for C in C_values:\n",
        "    model = LogisticRegression(solver='liblinear', C=C, max_iter=1000, random_state=42)\n",
        "    model.fit(X_train_final, y_train)\n",
        "    acc = round(accuracy_score(y_val, model.predict(X_val_final)), 3)\n",
        "    results[C] = acc\n",
        "\n",
        "print(\"Validation accuracies for different C values:\", results)\n",
        "\n",
        "best_C = max(results, key=results.get)\n",
        "print(\"Best C value:\", best_C)"
      ],
      "metadata": {
        "colab": {
          "base_uri": "https://localhost:8080/"
        },
        "id": "ZkjXGIsOpulT",
        "outputId": "d783e745-b6e3-4bb8-d56c-033d15197c77"
      },
      "execution_count": 17,
      "outputs": [
        {
          "output_type": "stream",
          "name": "stdout",
          "text": [
            "Validation accuracies for different C values: {0.01: 0.7, 0.1: 0.7, 1: 0.7, 10: 0.7, 100: 0.7}\n",
            "Best C value: 0.01\n"
          ]
        }
      ]
    },
    {
      "cell_type": "code",
      "source": [],
      "metadata": {
        "id": "7vFYH0rJqASL"
      },
      "execution_count": null,
      "outputs": []
    }
  ]
}