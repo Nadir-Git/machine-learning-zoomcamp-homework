{
  "cells": [
    {
      "cell_type": "code",
      "execution_count": 214,
      "metadata": {
        "id": "3sAyeVC85S4b"
      },
      "outputs": [],
      "source": [
        "import pandas as pd\n",
        "import numpy as np"
      ]
    },
    {
      "cell_type": "code",
      "execution_count": 215,
      "metadata": {
        "id": "3xdwlGqaFw98"
      },
      "outputs": [],
      "source": [
        "data = 'https://raw.githubusercontent.com/alexeygrigorev/datasets/master/car_fuel_efficiency.csv'"
      ]
    },
    {
      "cell_type": "code",
      "execution_count": 216,
      "metadata": {
        "id": "xaIF-UkP5WY7"
      },
      "outputs": [],
      "source": [
        "df = pd.read_csv(data)"
      ]
    },
    {
      "cell_type": "code",
      "execution_count": 217,
      "metadata": {
        "colab": {
          "base_uri": "https://localhost:8080/"
        },
        "id": "W-hLlzcsw2xE",
        "outputId": "6575f48d-370f-4541-a0f1-2d6f9b4c62ad"
      },
      "outputs": [
        {
          "data": {
            "text/plain": [
              "(9704, 11)"
            ]
          },
          "execution_count": 217,
          "metadata": {},
          "output_type": "execute_result"
        }
      ],
      "source": [
        "df.shape"
      ]
    },
    {
      "cell_type": "code",
      "execution_count": 218,
      "metadata": {
        "colab": {
          "base_uri": "https://localhost:8080/",
          "height": 313
        },
        "id": "Smj9BqXg5ZJL",
        "outputId": "16ce5869-a883-4947-f335-9ec8635236a4"
      },
      "outputs": [
        {
          "data": {
            "application/vnd.google.colaboratory.intrinsic+json": {
              "summary": "{\n  \"name\": \"df\",\n  \"rows\": 9704,\n  \"fields\": [\n    {\n      \"column\": \"engine_displacement\",\n      \"properties\": {\n        \"dtype\": \"number\",\n        \"std\": 49,\n        \"min\": 10,\n        \"max\": 380,\n        \"num_unique_values\": 36,\n        \"samples\": [\n          30,\n          260,\n          90\n        ],\n        \"semantic_type\": \"\",\n        \"description\": \"\"\n      }\n    },\n    {\n      \"column\": \"num_cylinders\",\n      \"properties\": {\n        \"dtype\": \"number\",\n        \"std\": 1.9993225843926064,\n        \"min\": 0.0,\n        \"max\": 13.0,\n        \"num_unique_values\": 14,\n        \"samples\": [\n          9.0,\n          10.0,\n          3.0\n        ],\n        \"semantic_type\": \"\",\n        \"description\": \"\"\n      }\n    },\n    {\n      \"column\": \"horsepower\",\n      \"properties\": {\n        \"dtype\": \"number\",\n        \"std\": 29.879555200339446,\n        \"min\": 37.0,\n        \"max\": 271.0,\n        \"num_unique_values\": 192,\n        \"samples\": [\n          128.0,\n          82.0,\n          167.0\n        ],\n        \"semantic_type\": \"\",\n        \"description\": \"\"\n      }\n    },\n    {\n      \"column\": \"vehicle_weight\",\n      \"properties\": {\n        \"dtype\": \"number\",\n        \"std\": 497.8948600311838,\n        \"min\": 952.6817606436496,\n        \"max\": 4739.077089392099,\n        \"num_unique_values\": 9704,\n        \"samples\": [\n          2535.8875912388694,\n          2741.1704843893167,\n          2471.8802372627765\n        ],\n        \"semantic_type\": \"\",\n        \"description\": \"\"\n      }\n    },\n    {\n      \"column\": \"acceleration\",\n      \"properties\": {\n        \"dtype\": \"number\",\n        \"std\": 2.510339293937879,\n        \"min\": 6.0,\n        \"max\": 24.3,\n        \"num_unique_values\": 162,\n        \"samples\": [\n          7.3,\n          20.3,\n          19.8\n        ],\n        \"semantic_type\": \"\",\n        \"description\": \"\"\n      }\n    },\n    {\n      \"column\": \"model_year\",\n      \"properties\": {\n        \"dtype\": \"number\",\n        \"std\": 6,\n        \"min\": 2000,\n        \"max\": 2023,\n        \"num_unique_values\": 24,\n        \"samples\": [\n          2005,\n          2002,\n          2003\n        ],\n        \"semantic_type\": \"\",\n        \"description\": \"\"\n      }\n    },\n    {\n      \"column\": \"origin\",\n      \"properties\": {\n        \"dtype\": \"category\",\n        \"num_unique_values\": 3,\n        \"samples\": [\n          \"Europe\",\n          \"USA\",\n          \"Asia\"\n        ],\n        \"semantic_type\": \"\",\n        \"description\": \"\"\n      }\n    },\n    {\n      \"column\": \"fuel_type\",\n      \"properties\": {\n        \"dtype\": \"category\",\n        \"num_unique_values\": 2,\n        \"samples\": [\n          \"Diesel\",\n          \"Gasoline\"\n        ],\n        \"semantic_type\": \"\",\n        \"description\": \"\"\n      }\n    },\n    {\n      \"column\": \"drivetrain\",\n      \"properties\": {\n        \"dtype\": \"category\",\n        \"num_unique_values\": 2,\n        \"samples\": [\n          \"Front-wheel drive\",\n          \"All-wheel drive\"\n        ],\n        \"semantic_type\": \"\",\n        \"description\": \"\"\n      }\n    },\n    {\n      \"column\": \"num_doors\",\n      \"properties\": {\n        \"dtype\": \"number\",\n        \"std\": 1.048162111427726,\n        \"min\": -4.0,\n        \"max\": 4.0,\n        \"num_unique_values\": 9,\n        \"samples\": [\n          -4.0,\n          2.0\n        ],\n        \"semantic_type\": \"\",\n        \"description\": \"\"\n      }\n    },\n    {\n      \"column\": \"fuel_efficiency_mpg\",\n      \"properties\": {\n        \"dtype\": \"number\",\n        \"std\": 2.5564677028974288,\n        \"min\": 6.200970533392815,\n        \"max\": 25.96722204888372,\n        \"num_unique_values\": 9704,\n        \"samples\": [\n          16.642943419221385,\n          16.298377150953442\n        ],\n        \"semantic_type\": \"\",\n        \"description\": \"\"\n      }\n    }\n  ]\n}",
              "type": "dataframe",
              "variable_name": "df"
            },
            "text/html": [
              "\n",
              "  <div id=\"df-255d9c63-0d61-47b2-bca7-54931e621606\" class=\"colab-df-container\">\n",
              "    <div>\n",
              "<style scoped>\n",
              "    .dataframe tbody tr th:only-of-type {\n",
              "        vertical-align: middle;\n",
              "    }\n",
              "\n",
              "    .dataframe tbody tr th {\n",
              "        vertical-align: top;\n",
              "    }\n",
              "\n",
              "    .dataframe thead th {\n",
              "        text-align: right;\n",
              "    }\n",
              "</style>\n",
              "<table border=\"1\" class=\"dataframe\">\n",
              "  <thead>\n",
              "    <tr style=\"text-align: right;\">\n",
              "      <th></th>\n",
              "      <th>engine_displacement</th>\n",
              "      <th>num_cylinders</th>\n",
              "      <th>horsepower</th>\n",
              "      <th>vehicle_weight</th>\n",
              "      <th>acceleration</th>\n",
              "      <th>model_year</th>\n",
              "      <th>origin</th>\n",
              "      <th>fuel_type</th>\n",
              "      <th>drivetrain</th>\n",
              "      <th>num_doors</th>\n",
              "      <th>fuel_efficiency_mpg</th>\n",
              "    </tr>\n",
              "  </thead>\n",
              "  <tbody>\n",
              "    <tr>\n",
              "      <th>0</th>\n",
              "      <td>170</td>\n",
              "      <td>3.0</td>\n",
              "      <td>159.0</td>\n",
              "      <td>3413.433759</td>\n",
              "      <td>17.7</td>\n",
              "      <td>2003</td>\n",
              "      <td>Europe</td>\n",
              "      <td>Gasoline</td>\n",
              "      <td>All-wheel drive</td>\n",
              "      <td>0.0</td>\n",
              "      <td>13.231729</td>\n",
              "    </tr>\n",
              "    <tr>\n",
              "      <th>1</th>\n",
              "      <td>130</td>\n",
              "      <td>5.0</td>\n",
              "      <td>97.0</td>\n",
              "      <td>3149.664934</td>\n",
              "      <td>17.8</td>\n",
              "      <td>2007</td>\n",
              "      <td>USA</td>\n",
              "      <td>Gasoline</td>\n",
              "      <td>Front-wheel drive</td>\n",
              "      <td>0.0</td>\n",
              "      <td>13.688217</td>\n",
              "    </tr>\n",
              "    <tr>\n",
              "      <th>2</th>\n",
              "      <td>170</td>\n",
              "      <td>NaN</td>\n",
              "      <td>78.0</td>\n",
              "      <td>3079.038997</td>\n",
              "      <td>15.1</td>\n",
              "      <td>2018</td>\n",
              "      <td>Europe</td>\n",
              "      <td>Gasoline</td>\n",
              "      <td>Front-wheel drive</td>\n",
              "      <td>0.0</td>\n",
              "      <td>14.246341</td>\n",
              "    </tr>\n",
              "    <tr>\n",
              "      <th>3</th>\n",
              "      <td>220</td>\n",
              "      <td>4.0</td>\n",
              "      <td>NaN</td>\n",
              "      <td>2542.392402</td>\n",
              "      <td>20.2</td>\n",
              "      <td>2009</td>\n",
              "      <td>USA</td>\n",
              "      <td>Diesel</td>\n",
              "      <td>All-wheel drive</td>\n",
              "      <td>2.0</td>\n",
              "      <td>16.912736</td>\n",
              "    </tr>\n",
              "    <tr>\n",
              "      <th>4</th>\n",
              "      <td>210</td>\n",
              "      <td>1.0</td>\n",
              "      <td>140.0</td>\n",
              "      <td>3460.870990</td>\n",
              "      <td>14.4</td>\n",
              "      <td>2009</td>\n",
              "      <td>Europe</td>\n",
              "      <td>Gasoline</td>\n",
              "      <td>All-wheel drive</td>\n",
              "      <td>2.0</td>\n",
              "      <td>12.488369</td>\n",
              "    </tr>\n",
              "  </tbody>\n",
              "</table>\n",
              "</div>\n",
              "    <div class=\"colab-df-buttons\">\n",
              "\n",
              "  <div class=\"colab-df-container\">\n",
              "    <button class=\"colab-df-convert\" onclick=\"convertToInteractive('df-255d9c63-0d61-47b2-bca7-54931e621606')\"\n",
              "            title=\"Convert this dataframe to an interactive table.\"\n",
              "            style=\"display:none;\">\n",
              "\n",
              "  <svg xmlns=\"http://www.w3.org/2000/svg\" height=\"24px\" viewBox=\"0 -960 960 960\">\n",
              "    <path d=\"M120-120v-720h720v720H120Zm60-500h600v-160H180v160Zm220 220h160v-160H400v160Zm0 220h160v-160H400v160ZM180-400h160v-160H180v160Zm440 0h160v-160H620v160ZM180-180h160v-160H180v160Zm440 0h160v-160H620v160Z\"/>\n",
              "  </svg>\n",
              "    </button>\n",
              "\n",
              "  <style>\n",
              "    .colab-df-container {\n",
              "      display:flex;\n",
              "      gap: 12px;\n",
              "    }\n",
              "\n",
              "    .colab-df-convert {\n",
              "      background-color: #E8F0FE;\n",
              "      border: none;\n",
              "      border-radius: 50%;\n",
              "      cursor: pointer;\n",
              "      display: none;\n",
              "      fill: #1967D2;\n",
              "      height: 32px;\n",
              "      padding: 0 0 0 0;\n",
              "      width: 32px;\n",
              "    }\n",
              "\n",
              "    .colab-df-convert:hover {\n",
              "      background-color: #E2EBFA;\n",
              "      box-shadow: 0px 1px 2px rgba(60, 64, 67, 0.3), 0px 1px 3px 1px rgba(60, 64, 67, 0.15);\n",
              "      fill: #174EA6;\n",
              "    }\n",
              "\n",
              "    .colab-df-buttons div {\n",
              "      margin-bottom: 4px;\n",
              "    }\n",
              "\n",
              "    [theme=dark] .colab-df-convert {\n",
              "      background-color: #3B4455;\n",
              "      fill: #D2E3FC;\n",
              "    }\n",
              "\n",
              "    [theme=dark] .colab-df-convert:hover {\n",
              "      background-color: #434B5C;\n",
              "      box-shadow: 0px 1px 3px 1px rgba(0, 0, 0, 0.15);\n",
              "      filter: drop-shadow(0px 1px 2px rgba(0, 0, 0, 0.3));\n",
              "      fill: #FFFFFF;\n",
              "    }\n",
              "  </style>\n",
              "\n",
              "    <script>\n",
              "      const buttonEl =\n",
              "        document.querySelector('#df-255d9c63-0d61-47b2-bca7-54931e621606 button.colab-df-convert');\n",
              "      buttonEl.style.display =\n",
              "        google.colab.kernel.accessAllowed ? 'block' : 'none';\n",
              "\n",
              "      async function convertToInteractive(key) {\n",
              "        const element = document.querySelector('#df-255d9c63-0d61-47b2-bca7-54931e621606');\n",
              "        const dataTable =\n",
              "          await google.colab.kernel.invokeFunction('convertToInteractive',\n",
              "                                                    [key], {});\n",
              "        if (!dataTable) return;\n",
              "\n",
              "        const docLinkHtml = 'Like what you see? Visit the ' +\n",
              "          '<a target=\"_blank\" href=https://colab.research.google.com/notebooks/data_table.ipynb>data table notebook</a>'\n",
              "          + ' to learn more about interactive tables.';\n",
              "        element.innerHTML = '';\n",
              "        dataTable['output_type'] = 'display_data';\n",
              "        await google.colab.output.renderOutput(dataTable, element);\n",
              "        const docLink = document.createElement('div');\n",
              "        docLink.innerHTML = docLinkHtml;\n",
              "        element.appendChild(docLink);\n",
              "      }\n",
              "    </script>\n",
              "  </div>\n",
              "\n",
              "\n",
              "    <div id=\"df-e9f2cefb-b8b4-49aa-808b-f7508b52fe0a\">\n",
              "      <button class=\"colab-df-quickchart\" onclick=\"quickchart('df-e9f2cefb-b8b4-49aa-808b-f7508b52fe0a')\"\n",
              "                title=\"Suggest charts\"\n",
              "                style=\"display:none;\">\n",
              "\n",
              "<svg xmlns=\"http://www.w3.org/2000/svg\" height=\"24px\"viewBox=\"0 0 24 24\"\n",
              "     width=\"24px\">\n",
              "    <g>\n",
              "        <path d=\"M19 3H5c-1.1 0-2 .9-2 2v14c0 1.1.9 2 2 2h14c1.1 0 2-.9 2-2V5c0-1.1-.9-2-2-2zM9 17H7v-7h2v7zm4 0h-2V7h2v10zm4 0h-2v-4h2v4z\"/>\n",
              "    </g>\n",
              "</svg>\n",
              "      </button>\n",
              "\n",
              "<style>\n",
              "  .colab-df-quickchart {\n",
              "      --bg-color: #E8F0FE;\n",
              "      --fill-color: #1967D2;\n",
              "      --hover-bg-color: #E2EBFA;\n",
              "      --hover-fill-color: #174EA6;\n",
              "      --disabled-fill-color: #AAA;\n",
              "      --disabled-bg-color: #DDD;\n",
              "  }\n",
              "\n",
              "  [theme=dark] .colab-df-quickchart {\n",
              "      --bg-color: #3B4455;\n",
              "      --fill-color: #D2E3FC;\n",
              "      --hover-bg-color: #434B5C;\n",
              "      --hover-fill-color: #FFFFFF;\n",
              "      --disabled-bg-color: #3B4455;\n",
              "      --disabled-fill-color: #666;\n",
              "  }\n",
              "\n",
              "  .colab-df-quickchart {\n",
              "    background-color: var(--bg-color);\n",
              "    border: none;\n",
              "    border-radius: 50%;\n",
              "    cursor: pointer;\n",
              "    display: none;\n",
              "    fill: var(--fill-color);\n",
              "    height: 32px;\n",
              "    padding: 0;\n",
              "    width: 32px;\n",
              "  }\n",
              "\n",
              "  .colab-df-quickchart:hover {\n",
              "    background-color: var(--hover-bg-color);\n",
              "    box-shadow: 0 1px 2px rgba(60, 64, 67, 0.3), 0 1px 3px 1px rgba(60, 64, 67, 0.15);\n",
              "    fill: var(--button-hover-fill-color);\n",
              "  }\n",
              "\n",
              "  .colab-df-quickchart-complete:disabled,\n",
              "  .colab-df-quickchart-complete:disabled:hover {\n",
              "    background-color: var(--disabled-bg-color);\n",
              "    fill: var(--disabled-fill-color);\n",
              "    box-shadow: none;\n",
              "  }\n",
              "\n",
              "  .colab-df-spinner {\n",
              "    border: 2px solid var(--fill-color);\n",
              "    border-color: transparent;\n",
              "    border-bottom-color: var(--fill-color);\n",
              "    animation:\n",
              "      spin 1s steps(1) infinite;\n",
              "  }\n",
              "\n",
              "  @keyframes spin {\n",
              "    0% {\n",
              "      border-color: transparent;\n",
              "      border-bottom-color: var(--fill-color);\n",
              "      border-left-color: var(--fill-color);\n",
              "    }\n",
              "    20% {\n",
              "      border-color: transparent;\n",
              "      border-left-color: var(--fill-color);\n",
              "      border-top-color: var(--fill-color);\n",
              "    }\n",
              "    30% {\n",
              "      border-color: transparent;\n",
              "      border-left-color: var(--fill-color);\n",
              "      border-top-color: var(--fill-color);\n",
              "      border-right-color: var(--fill-color);\n",
              "    }\n",
              "    40% {\n",
              "      border-color: transparent;\n",
              "      border-right-color: var(--fill-color);\n",
              "      border-top-color: var(--fill-color);\n",
              "    }\n",
              "    60% {\n",
              "      border-color: transparent;\n",
              "      border-right-color: var(--fill-color);\n",
              "    }\n",
              "    80% {\n",
              "      border-color: transparent;\n",
              "      border-right-color: var(--fill-color);\n",
              "      border-bottom-color: var(--fill-color);\n",
              "    }\n",
              "    90% {\n",
              "      border-color: transparent;\n",
              "      border-bottom-color: var(--fill-color);\n",
              "    }\n",
              "  }\n",
              "</style>\n",
              "\n",
              "      <script>\n",
              "        async function quickchart(key) {\n",
              "          const quickchartButtonEl =\n",
              "            document.querySelector('#' + key + ' button');\n",
              "          quickchartButtonEl.disabled = true;  // To prevent multiple clicks.\n",
              "          quickchartButtonEl.classList.add('colab-df-spinner');\n",
              "          try {\n",
              "            const charts = await google.colab.kernel.invokeFunction(\n",
              "                'suggestCharts', [key], {});\n",
              "          } catch (error) {\n",
              "            console.error('Error during call to suggestCharts:', error);\n",
              "          }\n",
              "          quickchartButtonEl.classList.remove('colab-df-spinner');\n",
              "          quickchartButtonEl.classList.add('colab-df-quickchart-complete');\n",
              "        }\n",
              "        (() => {\n",
              "          let quickchartButtonEl =\n",
              "            document.querySelector('#df-e9f2cefb-b8b4-49aa-808b-f7508b52fe0a button');\n",
              "          quickchartButtonEl.style.display =\n",
              "            google.colab.kernel.accessAllowed ? 'block' : 'none';\n",
              "        })();\n",
              "      </script>\n",
              "    </div>\n",
              "\n",
              "    </div>\n",
              "  </div>\n"
            ],
            "text/plain": [
              "   engine_displacement  num_cylinders  horsepower  vehicle_weight  \\\n",
              "0                  170            3.0       159.0     3413.433759   \n",
              "1                  130            5.0        97.0     3149.664934   \n",
              "2                  170            NaN        78.0     3079.038997   \n",
              "3                  220            4.0         NaN     2542.392402   \n",
              "4                  210            1.0       140.0     3460.870990   \n",
              "\n",
              "   acceleration  model_year  origin fuel_type         drivetrain  num_doors  \\\n",
              "0          17.7        2003  Europe  Gasoline    All-wheel drive        0.0   \n",
              "1          17.8        2007     USA  Gasoline  Front-wheel drive        0.0   \n",
              "2          15.1        2018  Europe  Gasoline  Front-wheel drive        0.0   \n",
              "3          20.2        2009     USA    Diesel    All-wheel drive        2.0   \n",
              "4          14.4        2009  Europe  Gasoline    All-wheel drive        2.0   \n",
              "\n",
              "   fuel_efficiency_mpg  \n",
              "0            13.231729  \n",
              "1            13.688217  \n",
              "2            14.246341  \n",
              "3            16.912736  \n",
              "4            12.488369  "
            ]
          },
          "execution_count": 218,
          "metadata": {},
          "output_type": "execute_result"
        }
      ],
      "source": [
        "df.head()"
      ]
    },
    {
      "cell_type": "markdown",
      "metadata": {
        "id": "zVrP4bMNwUtz"
      },
      "source": [
        "# **Solution 1**"
      ]
    },
    {
      "cell_type": "code",
      "execution_count": 219,
      "metadata": {
        "id": "fiUfcAtO5gTs"
      },
      "outputs": [],
      "source": [
        "cols_list = ['engine_displacement', 'horsepower', 'vehicle_weight', 'model_year']"
      ]
    },
    {
      "cell_type": "code",
      "execution_count": 220,
      "metadata": {
        "colab": {
          "base_uri": "https://localhost:8080/",
          "height": 209
        },
        "id": "lNnj48CLJLCh",
        "outputId": "40d0d3ac-a0f4-4800-d172-249af9bb1c34"
      },
      "outputs": [
        {
          "data": {
            "text/html": [
              "<div>\n",
              "<style scoped>\n",
              "    .dataframe tbody tr th:only-of-type {\n",
              "        vertical-align: middle;\n",
              "    }\n",
              "\n",
              "    .dataframe tbody tr th {\n",
              "        vertical-align: top;\n",
              "    }\n",
              "\n",
              "    .dataframe thead th {\n",
              "        text-align: right;\n",
              "    }\n",
              "</style>\n",
              "<table border=\"1\" class=\"dataframe\">\n",
              "  <thead>\n",
              "    <tr style=\"text-align: right;\">\n",
              "      <th></th>\n",
              "      <th>0</th>\n",
              "    </tr>\n",
              "  </thead>\n",
              "  <tbody>\n",
              "    <tr>\n",
              "      <th>engine_displacement</th>\n",
              "      <td>0</td>\n",
              "    </tr>\n",
              "    <tr>\n",
              "      <th>horsepower</th>\n",
              "      <td>708</td>\n",
              "    </tr>\n",
              "    <tr>\n",
              "      <th>vehicle_weight</th>\n",
              "      <td>0</td>\n",
              "    </tr>\n",
              "    <tr>\n",
              "      <th>model_year</th>\n",
              "      <td>0</td>\n",
              "    </tr>\n",
              "  </tbody>\n",
              "</table>\n",
              "</div><br><label><b>dtype:</b> int64</label>"
            ],
            "text/plain": [
              "engine_displacement      0\n",
              "horsepower             708\n",
              "vehicle_weight           0\n",
              "model_year               0\n",
              "dtype: int64"
            ]
          },
          "execution_count": 220,
          "metadata": {},
          "output_type": "execute_result"
        }
      ],
      "source": [
        "df[cols_list].isnull().sum()"
      ]
    },
    {
      "cell_type": "markdown",
      "metadata": {
        "id": "TJo0urrXwivK"
      },
      "source": [
        "# **Solution 2**"
      ]
    },
    {
      "cell_type": "code",
      "execution_count": 221,
      "metadata": {
        "colab": {
          "base_uri": "https://localhost:8080/"
        },
        "id": "qioUv1m9JQCI",
        "outputId": "c8bbd69d-5bcb-40b2-8fa6-c7150737f822"
      },
      "outputs": [
        {
          "data": {
            "text/plain": [
              "149.0"
            ]
          },
          "execution_count": 221,
          "metadata": {},
          "output_type": "execute_result"
        }
      ],
      "source": [
        "df.horsepower.median()"
      ]
    },
    {
      "cell_type": "markdown",
      "metadata": {
        "id": "UjMCwNLVwm8S"
      },
      "source": [
        "# **Solution 3**"
      ]
    },
    {
      "cell_type": "code",
      "execution_count": 222,
      "metadata": {
        "id": "GDZR2s4a6iVx"
      },
      "outputs": [],
      "source": [
        "from sklearn.linear_model import LinearRegression\n",
        "from sklearn.metrics import mean_squared_error\n",
        "from sklearn.model_selection import train_test_split\n",
        "import seaborn as sns\n",
        "import matplotlib.pyplot as plt"
      ]
    },
    {
      "cell_type": "code",
      "execution_count": 223,
      "metadata": {
        "id": "d0LgBfFTJlps"
      },
      "outputs": [],
      "source": [
        "vars = ['engine_displacement', 'horsepower', 'vehicle_weight', 'model_year', 'fuel_efficiency_mpg']\n",
        "df = df[vars]"
      ]
    },
    {
      "cell_type": "code",
      "execution_count": 224,
      "metadata": {
        "colab": {
          "base_uri": "https://localhost:8080/"
        },
        "id": "dzbx3yIuwv74",
        "outputId": "e97c8d24-2cdf-482b-c141-e57d4c6b3691"
      },
      "outputs": [
        {
          "name": "stdout",
          "output_type": "stream",
          "text": [
            "count    9704.000000\n",
            "mean       14.985243\n",
            "std         2.556468\n",
            "min         6.200971\n",
            "25%        13.267459\n",
            "50%        15.006037\n",
            "75%        16.707965\n",
            "max        25.967222\n",
            "Name: fuel_efficiency_mpg, dtype: float64\n"
          ]
        }
      ],
      "source": [
        "print(df['fuel_efficiency_mpg'].describe())"
      ]
    },
    {
      "cell_type": "code",
      "execution_count": 225,
      "metadata": {
        "colab": {
          "base_uri": "https://localhost:8080/",
          "height": 472
        },
        "id": "-wdiVbA_zRVf",
        "outputId": "65350b80-cefd-46af-ce7f-75e79a480c35"
      },
      "outputs": [
        {
          "data": {
            "image/png": "[encoded data removed]",
            "text/plain": [
              "<Figure size 640x480 with 1 Axes>"
            ]
          },
          "metadata": {},
          "output_type": "display_data"
        }
      ],
      "source": [
        "plot = sns.histplot(df['fuel_efficiency_mpg'])\n",
        "plot.set_xlabel('Fuel Efficiency (mpg)')\n",
        "plot.set_ylabel('Frequency')\n",
        "plot.set_title('Fuel Efficiency Distribution in mpg')\n",
        "plt.show()"
      ]
    },
    {
      "cell_type": "code",
      "execution_count": 226,
      "metadata": {
        "id": "Ml83bFCx881k"
      },
      "outputs": [],
      "source": [
        "df = df.sample(frac=1, random_state=42)"
      ]
    },
    {
      "cell_type": "code",
      "execution_count": 227,
      "metadata": {
        "id": "zAjZLLYa9y0r"
      },
      "outputs": [],
      "source": [
        "n = len(df)\n",
        "n_train = int(0.6 * n)\n",
        "n_val = int(0.2 * n)\n",
        "n_test = n - n_train - n_val"
      ]
    },
    {
      "cell_type": "code",
      "execution_count": 228,
      "metadata": {
        "id": "NzzTxk8z98NF"
      },
      "outputs": [],
      "source": [
        "df_train = df.iloc[:n_train]\n",
        "df_val = df.iloc[n_train:n_train+n_val]\n",
        "df_test = df.iloc[n_train+n_val:]"
      ]
    },
    {
      "cell_type": "code",
      "execution_count": 229,
      "metadata": {
        "colab": {
          "base_uri": "https://localhost:8080/"
        },
        "id": "Qc408N9Q-Dc2",
        "outputId": "47014c39-5fdf-4d2e-a21a-600752b71526"
      },
      "outputs": [
        {
          "name": "stdout",
          "output_type": "stream",
          "text": [
            "Train size 5822, Val size: 1940, Test size: 1942\n"
          ]
        }
      ],
      "source": [
        "print(f'Train size {len(df_train)}, Val size: {len(df_val)}, Test size: {len(df_test)}')"
      ]
    },
    {
      "cell_type": "code",
      "execution_count": 230,
      "metadata": {
        "id": "U9Whgxnz-nCE"
      },
      "outputs": [],
      "source": [
        "hp_mean = df_train['horsepower'].mean()"
      ]
    },
    {
      "cell_type": "code",
      "execution_count": 231,
      "metadata": {
        "id": "tNFIF80D-1lj"
      },
      "outputs": [],
      "source": [
        "df_train_0 = df_train.fillna(0)\n",
        "df_val_0 = df_val.fillna(0)"
      ]
    },
    {
      "cell_type": "code",
      "execution_count": 232,
      "metadata": {
        "id": "lzeup9inyYtW"
      },
      "outputs": [],
      "source": [
        "df_train_mean = df_train.fillna(hp_mean)\n",
        "df_val_mean = df_val.fillna(hp_mean)"
      ]
    },
    {
      "cell_type": "code",
      "execution_count": 233,
      "metadata": {
        "id": "rcs9u-WAyhSN"
      },
      "outputs": [],
      "source": [
        "features = ['engine_displacement', 'horsepower', 'vehicle_weight', 'model_year']"
      ]
    },
    {
      "cell_type": "code",
      "execution_count": 234,
      "metadata": {
        "id": "4lpJZfVTy-sz"
      },
      "outputs": [],
      "source": [
        "model_0 = LinearRegression()\n",
        "model_0.fit(df_train_0[features], df_train_0['fuel_efficiency_mpg'])\n",
        "pred_0 = model_0.predict(df_val_0[features])\n",
        "rmse_0 = np.sqrt(mean_squared_error(df_val_0['fuel_efficiency_mpg'], pred_0))"
      ]
    },
    {
      "cell_type": "code",
      "execution_count": 235,
      "metadata": {
        "id": "Zq0naR7MDyLE"
      },
      "outputs": [],
      "source": [
        "model_mean = LinearRegression()\n",
        "model_mean.fit(df_train_mean[features], df_train_mean['fuel_efficiency_mpg'])\n",
        "pred_mean = model_mean.predict(df_val_mean[features])\n",
        "rmse_mean = np.sqrt(mean_squared_error(df_val_mean['fuel_efficiency_mpg'], pred_mean))"
      ]
    },
    {
      "cell_type": "code",
      "execution_count": 236,
      "metadata": {
        "colab": {
          "base_uri": "https://localhost:8080/"
        },
        "id": "NZqEC6ebEL4m",
        "outputId": "4b15f7d7-09d5-41c4-b0cc-529f26254f45"
      },
      "outputs": [
        {
          "name": "stdout",
          "output_type": "stream",
          "text": [
            "RMSE with 0 fill 0.52\n",
            "RMSE with mean fill 0.46\n"
          ]
        }
      ],
      "source": [
        "print('RMSE with 0 fill', round(rmse_0, 2))\n",
        "print('RMSE with mean fill', round(rmse_mean, 2))"
      ]
    },
    {
      "cell_type": "markdown",
      "metadata": {
        "id": "2yjdJzPX_cZ_"
      },
      "source": [
        "# **Solution 4**"
      ]
    },
    {
      "cell_type": "code",
      "execution_count": 237,
      "metadata": {
        "id": "c1U8WH3gdeQT"
      },
      "outputs": [],
      "source": [
        "from sklearn.linear_model import Ridge"
      ]
    },
    {
      "cell_type": "code",
      "execution_count": 238,
      "metadata": {
        "id": "wpf99zg6RFCw"
      },
      "outputs": [],
      "source": [
        "r_vals = [0, 0.01, 0.1, 1, 5, 10, 100]"
      ]
    },
    {
      "cell_type": "code",
      "execution_count": 239,
      "metadata": {
        "id": "Yw2DDwdyckoe"
      },
      "outputs": [],
      "source": [
        "rmse_res = {}"
      ]
    },
    {
      "cell_type": "code",
      "execution_count": 240,
      "metadata": {
        "colab": {
          "base_uri": "https://localhost:8080/"
        },
        "id": "fBZilOYhfSUw",
        "outputId": "026f66ac-5eb9-41f3-d039-e09c1ee9695d"
      },
      "outputs": [
        {
          "name": "stdout",
          "output_type": "stream",
          "text": [
            "r=0 has RMSE: 0.46\n",
            "r=0.01 has RMSE: 0.46\n",
            "r=0.1 has RMSE: 0.46\n",
            "r=1 has RMSE: 0.46\n",
            "r=5 has RMSE: 0.46\n",
            "r=10 has RMSE: 0.46\n",
            "r=100 has RMSE: 0.46\n"
          ]
        }
      ],
      "source": [
        "for r in r_vals:\n",
        "  model = Ridge(alpha=r)\n",
        "  model.fit(df_train_mean[features], df_train_mean['fuel_efficiency_mpg'])\n",
        "  pred = model.predict(df_val_mean[features])\n",
        "  rmse = np.sqrt(mean_squared_error(df_val_mean['fuel_efficiency_mpg'], pred))\n",
        "  rmse_res[r] = rmse\n",
        "  print(f'r={r} has RMSE: {round(rmse, 2)}')"
      ]
    },
    {
      "cell_type": "code",
      "execution_count": 241,
      "metadata": {
        "colab": {
          "base_uri": "https://localhost:8080/"
        },
        "id": "i0btTGNzhK5P",
        "outputId": "9e630f94-6283-4612-9649-689f3320ce3c"
      },
      "outputs": [
        {
          "name": "stdout",
          "output_type": "stream",
          "text": [
            "Best r value is 100 with RMSE: 0.46\n"
          ]
        }
      ],
      "source": [
        "best_r = min(rmse_res, key=rmse_res.get)\n",
        "print(f'Best r value is {best_r} with RMSE: {round(rmse_res[best_r], 2)}')"
      ]
    },
    {
      "cell_type": "markdown",
      "metadata": {
        "id": "AfWfG7Ehl3ob"
      },
      "source": [
        "# **Solution 5**"
      ]
    },
    {
      "cell_type": "code",
      "execution_count": 266,
      "metadata": {
        "id": "Uam8SPEBooJs"
      },
      "outputs": [],
      "source": [
        "df = df.fillna(0)"
      ]
    },
    {
      "cell_type": "code",
      "execution_count": 243,
      "metadata": {
        "colab": {
          "base_uri": "https://localhost:8080/",
          "height": 241
        },
        "id": "zyKa-FEuj3C1",
        "outputId": "02bb1c90-cecd-47ce-c9bf-95e723b18339"
      },
      "outputs": [
        {
          "data": {
            "text/html": [
              "<div>\n",
              "<style scoped>\n",
              "    .dataframe tbody tr th:only-of-type {\n",
              "        vertical-align: middle;\n",
              "    }\n",
              "\n",
              "    .dataframe tbody tr th {\n",
              "        vertical-align: top;\n",
              "    }\n",
              "\n",
              "    .dataframe thead th {\n",
              "        text-align: right;\n",
              "    }\n",
              "</style>\n",
              "<table border=\"1\" class=\"dataframe\">\n",
              "  <thead>\n",
              "    <tr style=\"text-align: right;\">\n",
              "      <th></th>\n",
              "      <th>0</th>\n",
              "    </tr>\n",
              "  </thead>\n",
              "  <tbody>\n",
              "    <tr>\n",
              "      <th>engine_displacement</th>\n",
              "      <td>0</td>\n",
              "    </tr>\n",
              "    <tr>\n",
              "      <th>horsepower</th>\n",
              "      <td>0</td>\n",
              "    </tr>\n",
              "    <tr>\n",
              "      <th>vehicle_weight</th>\n",
              "      <td>0</td>\n",
              "    </tr>\n",
              "    <tr>\n",
              "      <th>model_year</th>\n",
              "      <td>0</td>\n",
              "    </tr>\n",
              "    <tr>\n",
              "      <th>fuel_efficiency_mpg</th>\n",
              "      <td>0</td>\n",
              "    </tr>\n",
              "  </tbody>\n",
              "</table>\n",
              "</div><br><label><b>dtype:</b> int64</label>"
            ],
            "text/plain": [
              "engine_displacement    0\n",
              "horsepower             0\n",
              "vehicle_weight         0\n",
              "model_year             0\n",
              "fuel_efficiency_mpg    0\n",
              "dtype: int64"
            ]
          },
          "execution_count": 243,
          "metadata": {},
          "output_type": "execute_result"
        }
      ],
      "source": [
        "df.isnull().sum()"
      ]
    },
    {
      "cell_type": "code",
      "execution_count": 244,
      "metadata": {
        "id": "O5doU7NbouXQ"
      },
      "outputs": [],
      "source": [
        "seed_list = [0, 1, 2, 3, 4, 5, 6, 7, 8, 9]"
      ]
    },
    {
      "cell_type": "code",
      "execution_count": 245,
      "metadata": {
        "id": "PUeuC4Y9rLRU"
      },
      "outputs": [],
      "source": [
        "rmse_scores = []"
      ]
    },
    {
      "cell_type": "code",
      "execution_count": 246,
      "metadata": {
        "id": "xxL8clfApFAI"
      },
      "outputs": [],
      "source": [
        "for seed in seed_list:\n",
        "  df_shuffled = df.sample(frac=1, random_state=seed)\n",
        "  n = len(df_shuffled)\n",
        "  n_train = int(0.6 * n)\n",
        "  n_val = int(0.2 * n)\n",
        "  df_train = df_shuffled.iloc[:n_train]\n",
        "  df_val = df_shuffled.iloc[n_train:n_train+n_val]\n",
        "  X_train = df_train[features]\n",
        "  y_train = df_train['fuel_efficiency_mpg']\n",
        "  X_val = df_val[features]\n",
        "  y_val = df_val['fuel_efficiency_mpg']\n",
        "  model = Ridge(alpha=0)\n",
        "  model.fit(X_train, y_train)\n",
        "  pred = model.predict(X_val)\n",
        "  rmse = np.sqrt(mean_squared_error(y_val, pred))\n",
        "  rmse_scores.append(rmse)"
      ]
    },
    {
      "cell_type": "code",
      "execution_count": 247,
      "metadata": {
        "colab": {
          "base_uri": "https://localhost:8080/"
        },
        "id": "em3tIshurU_M",
        "outputId": "339e837d-2eb4-4692-d030-da1e94d84e15"
      },
      "outputs": [
        {
          "name": "stdout",
          "output_type": "stream",
          "text": [
            "RMSE scores for each seed: [np.float64(0.5155364611234913), np.float64(0.5088870010817624), np.float64(0.5160954594300667), np.float64(0.526983997565152), np.float64(0.5330269933544038), np.float64(0.5179065027806765), np.float64(0.5133799955420718), np.float64(0.5297144762901002), np.float64(0.5074482547621969), np.float64(0.52113374071076)]\n"
          ]
        }
      ],
      "source": [
        "print('RMSE scores for each seed:', rmse_scores)"
      ]
    },
    {
      "cell_type": "code",
      "execution_count": 248,
      "metadata": {
        "colab": {
          "base_uri": "https://localhost:8080/"
        },
        "id": "k06Ku4qDr9fA",
        "outputId": "ce02800c-a9d7-490c-b600-ad29e48fcd98"
      },
      "outputs": [
        {
          "name": "stdout",
          "output_type": "stream",
          "text": [
            "Standard deviation of RMSE is 0.008\n"
          ]
        }
      ],
      "source": [
        "rmse_std = np.std(rmse_scores)\n",
        "print('Standard deviation of RMSE is', round(rmse_std, 3))"
      ]
    },
    {
      "cell_type": "markdown",
      "metadata": {
        "id": "wRjePdld4g-G"
      },
      "source": [
        "# **Solution 6**"
      ]
    },
    {
      "cell_type": "code",
      "execution_count": 350,
      "metadata": {
        "id": "W40K6VbCNeLd"
      },
      "outputs": [],
      "source": [
        "df = pd.read_csv(\"https://raw.githubusercontent.com/alexeygrigorev/datasets/master/car_fuel_efficiency.csv\")\n",
        "cols = ['engine_displacement', 'horsepower', 'vehicle_weight', 'model_year', 'fuel_efficiency_mpg']\n",
        "df = df[cols]"
      ]
    },
    {
      "cell_type": "code",
      "execution_count": 351,
      "metadata": {
        "id": "Wp-7jpAk68uQ"
      },
      "outputs": [],
      "source": [
        "df = df.sample(frac=1, random_state=9)"
      ]
    },
    {
      "cell_type": "code",
      "execution_count": 352,
      "metadata": {
        "id": "X-sdbLjcqBfO"
      },
      "outputs": [],
      "source": [
        "n = len(df)\n",
        "n_train = int(0.6 * n)\n",
        "n_val = int(0.2 * n)\n",
        "n_test = n - n_train - n_val"
      ]
    },
    {
      "cell_type": "code",
      "execution_count": 353,
      "metadata": {
        "id": "kBj3MnKs7h6T"
      },
      "outputs": [],
      "source": [
        "df_train = df.iloc[:n_train]\n",
        "df_val = df.iloc[n_train:n_train+n_val]\n",
        "df_test = df.iloc[n_train+n_val:]"
      ]
    },
    {
      "cell_type": "code",
      "execution_count": 354,
      "metadata": {
        "id": "5HL63HsLK6QK"
      },
      "outputs": [],
      "source": [
        "df_train = df_train.fillna(0)\n",
        "df_val = df_val.fillna(0)\n",
        "df_test = df_test.fillna(0)"
      ]
    },
    {
      "cell_type": "code",
      "execution_count": 355,
      "metadata": {
        "id": "HsCCisCI8plc"
      },
      "outputs": [],
      "source": [
        "train_val_df = pd.concat([df_train, df_val])"
      ]
    },
    {
      "cell_type": "code",
      "execution_count": 357,
      "metadata": {
        "id": "17D7E3iF9Hcr"
      },
      "outputs": [],
      "source": [
        "X_train = train_val_df[features]\n",
        "y_train = train_val_df['fuel_efficiency_mpg']\n",
        "X_test = df_test[features]\n",
        "y_test = df_test['fuel_efficiency_mpg']"
      ]
    },
    {
      "cell_type": "code",
      "execution_count": 359,
      "metadata": {
        "colab": {
          "base_uri": "https://localhost:8080/"
        },
        "id": "0y6mQmamJQ_-",
        "outputId": "92759e9e-005b-4730-e566-24c5785b1fec"
      },
      "outputs": [
        {
          "name": "stdout",
          "output_type": "stream",
          "text": [
            "RMSE on test set is 0.515\n"
          ]
        }
      ],
      "source": [
        "model = Ridge(alpha=0.001)\n",
        "model.fit(X_train, y_train)\n",
        "pred = model.predict(X_test)\n",
        "rmse = np.sqrt(mean_squared_error(y_test, pred))\n",
        "print('RMSE on test set is', round(rmse, 3))"
      ]
    }
  ],
  "metadata": {
    "colab": {
      "provenance": []
    },
    "kernelspec": {
      "display_name": "Python 3",
      "name": "python3"
    },
    "language_info": {
      "name": "python"
    }
  },
  "nbformat": 4,
  "nbformat_minor": 0
}
